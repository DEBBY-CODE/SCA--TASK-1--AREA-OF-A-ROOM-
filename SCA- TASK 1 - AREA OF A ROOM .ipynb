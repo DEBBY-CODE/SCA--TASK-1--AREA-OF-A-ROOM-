{
 "cells": [
  {
   "cell_type": "markdown",
   "metadata": {},
   "source": [
    "### AREA OF A ROOM TASK  : WRITING A FUNCTION TO OUTPUT THE AREA OF A ROOM "
   ]
  },
  {
   "cell_type": "code",
   "execution_count": 2,
   "metadata": {},
   "outputs": [
    {
     "name": "stdout",
     "output_type": "stream",
     "text": [
      "2\n"
     ]
    }
   ],
   "source": [
    "def area_of_a_room(length, breath):\n",
    "    \"\"\"Function that defines an area of a room\"\"\"\n",
    "    length = 1\n",
    "    breadth = 2 \n",
    "    a = length * breadth \n",
    "    return a \n",
    "\n",
    "print(area_of_a_room (1, 2))"
   ]
  }
 ],
 "metadata": {
  "kernelspec": {
   "display_name": "Python 3",
   "language": "python",
   "name": "python3"
  },
  "language_info": {
   "codemirror_mode": {
    "name": "ipython",
    "version": 3
   },
   "file_extension": ".py",
   "mimetype": "text/x-python",
   "name": "python",
   "nbconvert_exporter": "python",
   "pygments_lexer": "ipython3",
   "version": "3.7.4"
  }
 },
 "nbformat": 4,
 "nbformat_minor": 2
}
